{
 "cells": [
  {
   "cell_type": "markdown",
   "metadata": {},
   "source": [
    "# Chapter: Proximity-based Techniques for Detection\n",
    "\n",
    "\n",
    "# Topic: Process Fault Detection via LOF"
   ]
  },
  {
   "cell_type": "code",
   "execution_count": 11,
   "metadata": {},
   "outputs": [],
   "source": [
    "# packages\n",
    "import numpy as np\n",
    "import matplotlib.pyplot as plt\n",
    "from sklearn.preprocessing import StandardScaler\n",
    "from sklearn.decomposition import PCA\n",
    "from sklearn.pipeline import Pipeline"
   ]
  },
  {
   "cell_type": "code",
   "execution_count": 12,
   "metadata": {},
   "outputs": [],
   "source": [
    "# fetch data\n",
    "import scipy.io\n",
    "\n",
    "matlab_data = scipy.io.loadmat('MACHINE_Data.mat', struct_as_record = False)\n",
    "Etch_data = matlab_data['LAMDATA']\n",
    "calibration_dataAll = Etch_data[0,0].calibration # calibration_dataAll[i,0] corresponds to a 2D data from ith batch where columns correspond to different variables \n",
    "\n",
    "variable_names = Etch_data[0,0].variables"
   ]
  },
  {
   "cell_type": "code",
   "execution_count": 13,
   "metadata": {},
   "outputs": [],
   "source": [
    "# generate unfolded data matrix\n",
    "n_vars = variable_names.size - 2 # first 2 columns are not process variables\n",
    "n_samples = 85 # following the work of He et al.\n",
    "\n",
    "unfolded_dataMatrix = np.empty((1,n_vars*n_samples))\n",
    "for expt in range(calibration_dataAll.size):\n",
    "    calibration_expt = calibration_dataAll[expt,0][5:90,2:] # removing first 5 measurements as done in He et al.\n",
    "    \n",
    "    if calibration_expt.shape[0] < 85:\n",
    "        continue\n",
    "    \n",
    "    unfolded_row = np.ravel(calibration_expt, order='F')[np.newaxis,:]\n",
    "    unfolded_dataMatrix = np.vstack((unfolded_dataMatrix, unfolded_row))\n",
    "\n",
    "unfolded_dataMatrix = unfolded_dataMatrix[1:,:]"
   ]
  },
  {
   "cell_type": "code",
   "execution_count": 14,
   "metadata": {},
   "outputs": [
    {
     "data": {
      "image/png": "[encoded data removed]",
      "text/plain": [
       "<Figure size 432x288 with 1 Axes>"
      ]
     },
     "metadata": {
      "needs_background": "light"
     },
     "output_type": "display_data"
    }
   ],
   "source": [
    "#%%%%%%%%%%%%%%%%%%%%%%%%%%%%%%%%%%%%%%%%%%%%%%%%%%%%%%%%%%%%%%%%%%%%%%%%%%%%\n",
    "#               Fit PCA and use PC scores as model inputs\n",
    "#%%%%%%%%%%%%%%%%%%%%%%%%%%%%%%%%%%%%%%%%%%%%%%%%%%%%%%%%%%%%%%%%%%%%%%%%%%%%\n",
    "\n",
    "# scale data & fit PCA model via pipeline\n",
    "pipe = Pipeline([('scaler', StandardScaler()), ('pca', PCA(n_components = 3))])\n",
    "score_train = pipe.fit_transform(unfolded_dataMatrix)\n",
    "\n",
    "# visualize in 2D\n",
    "plt.figure()\n",
    "plt.scatter(score_train[:,0],score_train[:,1])\n",
    "plt.xlabel('PC1 scores')\n",
    "plt.ylabel('PC2 scores')\n",
    "plt.show()"
   ]
  },
  {
   "cell_type": "code",
   "execution_count": 15,
   "metadata": {},
   "outputs": [],
   "source": [
    "#%%%%%%%%%%%%%%%%%%%%%%%%%%%%%%%%%%%%%%%%%%%%%%%%%%%%%%%%%%%%%%%%%%%%%%%%%%%\n",
    "#                       Fit LOF model\n",
    "#%%%%%%%%%%%%%%%%%%%%%%%%%%%%%%%%%%%%%%%%%%%%%%%%%%%%%%%%%%%%%%%%%%%%%%%%%%%\n",
    "from sklearn.neighbors import LocalOutlierFactor\n",
    "\n",
    "lof_model = LocalOutlierFactor(n_neighbors=5, novelty=True, contamination=0.05)\n",
    "lof_model.fit(score_train)\n",
    "\n",
    "lof_train = -lof_model.negative_outlier_factor_ # negative_outlier_factor_ gives the opposite LOF of the training samples\n",
    "lof_CL = -lof_model.offset_"
   ]
  },
  {
   "cell_type": "code",
   "execution_count": 16,
   "metadata": {},
   "outputs": [
    {
     "data": {
      "image/png": "[encoded data removed]",
      "text/plain": [
       "<Figure size 432x288 with 1 Axes>"
      ]
     },
     "metadata": {
      "needs_background": "light"
     },
     "output_type": "display_data"
    }
   ],
   "source": [
    "# monitoring chart for training data\n",
    "plt.figure()\n",
    "plt.plot(lof_train, '*')\n",
    "plt.plot([1,len(lof_train)],[lof_CL, lof_CL], color='red')\n",
    "plt.xlabel('Sample #')\n",
    "plt.ylabel('LOF values for training data')\n",
    "plt.show()"
   ]
  },
  {
   "cell_type": "code",
   "execution_count": 17,
   "metadata": {},
   "outputs": [],
   "source": [
    "#%%%%%%%%%%%%%%%%%%%%%%%%%%%%%%%%%%%%%%%%%%%%%%%%%%%%%%%%%%%%%%%%%%%%%%%%%%%\n",
    "#                        test data\n",
    "#%%%%%%%%%%%%%%%%%%%%%%%%%%%%%%%%%%%%%%%%%%%%%%%%%%%%%%%%%%%%%%%%%%%%%%%%%%%"
   ]
  },
  {
   "cell_type": "code",
   "execution_count": 18,
   "metadata": {},
   "outputs": [],
   "source": [
    "# fetch test data and unfold\n",
    "test_dataAll = Etch_data[0,0].test\n",
    "\n",
    "unfolded_TestdataMatrix = np.empty((1,n_vars*n_samples))\n",
    "for expt in range(test_dataAll.size):\n",
    "    test_expt = test_dataAll[expt,0][5:90,2:]\n",
    "    \n",
    "    if test_expt.shape[0] < 85:\n",
    "        continue\n",
    "    \n",
    "    unfolded_row = np.ravel(test_expt, order='F')[np.newaxis,:]\n",
    "    unfolded_TestdataMatrix = np.vstack((unfolded_TestdataMatrix, unfolded_row))\n",
    "\n",
    "unfolded_TestdataMatrix = unfolded_TestdataMatrix[1:,:]\n",
    "\n",
    "# scale and PCA on faulty test data\n",
    "score_test = pipe.transform(unfolded_TestdataMatrix)\n"
   ]
  },
  {
   "cell_type": "code",
   "execution_count": 19,
   "metadata": {},
   "outputs": [
    {
     "name": "stdout",
     "output_type": "stream",
     "text": [
      "Number of flagged faults (using control chart):  16\n",
      "Number of flagged faults (using predict function):  16\n"
     ]
    },
    {
     "data": {
      "image/png": "[encoded data removed]",
      "text/plain": [
       "<Figure size 432x288 with 1 Axes>"
      ]
     },
     "metadata": {
      "needs_background": "light"
     },
     "output_type": "display_data"
    }
   ],
   "source": [
    "# lof_test\n",
    "lof_test = -lof_model.score_samples(score_test)\n",
    "print('Number of flagged faults (using control chart): ', np.sum(lof_test > lof_CL))\n",
    "\n",
    "# can also use predict() function of LOF class to flag faulty samples\n",
    "print('Number of flagged faults (using predict function): ', np.sum(lof_model.predict(score_test) == -1))\n",
    "\n",
    "# monitoring chart for test data\n",
    "plt.figure()\n",
    "plt.plot(lof_test, '*')\n",
    "plt.plot([1,len(lof_test)],[lof_CL, lof_CL], color='red')\n",
    "plt.xlabel('Sample #')\n",
    "plt.ylabel('LOF values for test data')\n",
    "plt.show()"
   ]
  }
 ],
 "metadata": {
  "kernelspec": {
   "display_name": "Python 3 (ipykernel)",
   "language": "python",
   "name": "python3"
  },
  "language_info": {
   "codemirror_mode": {
    "name": "ipython",
    "version": 3
   },
   "file_extension": ".py",
   "mimetype": "text/x-python",
   "name": "python",
   "nbconvert_exporter": "python",
   "pygments_lexer": "ipython3",
   "version": "3.9.7"
  }
 },
 "nbformat": 4,
 "nbformat_minor": 2
}
